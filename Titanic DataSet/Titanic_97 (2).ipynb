{
 "cells": [
  {
   "cell_type": "code",
   "execution_count": 136,
   "metadata": {},
   "outputs": [],
   "source": [
    "import pandas as pd\n",
    "import numpy as np\n",
    "import seaborn as sb\n",
    "import matplotlib.pyplot as plt\n",
    "import math\n",
    "\n",
    "td=pd.read_csv(\"train.csv\")"
   ]
  },
  {
   "cell_type": "code",
   "execution_count": 137,
   "metadata": {},
   "outputs": [
    {
     "data": {
      "text/html": [
       "<div>\n",
       "<style scoped>\n",
       "    .dataframe tbody tr th:only-of-type {\n",
       "        vertical-align: middle;\n",
       "    }\n",
       "\n",
       "    .dataframe tbody tr th {\n",
       "        vertical-align: top;\n",
       "    }\n",
       "\n",
       "    .dataframe thead th {\n",
       "        text-align: right;\n",
       "    }\n",
       "</style>\n",
       "<table border=\"1\" class=\"dataframe\">\n",
       "  <thead>\n",
       "    <tr style=\"text-align: right;\">\n",
       "      <th></th>\n",
       "      <th>PassengerId</th>\n",
       "      <th>Survived</th>\n",
       "      <th>Pclass</th>\n",
       "      <th>Name</th>\n",
       "      <th>Sex</th>\n",
       "      <th>Age</th>\n",
       "      <th>SibSp</th>\n",
       "      <th>Parch</th>\n",
       "      <th>Ticket</th>\n",
       "      <th>Fare</th>\n",
       "      <th>Cabin</th>\n",
       "      <th>Embarked</th>\n",
       "    </tr>\n",
       "  </thead>\n",
       "  <tbody>\n",
       "    <tr>\n",
       "      <th>0</th>\n",
       "      <td>1</td>\n",
       "      <td>0</td>\n",
       "      <td>3</td>\n",
       "      <td>Braund, Mr. Owen Harris</td>\n",
       "      <td>male</td>\n",
       "      <td>22.0</td>\n",
       "      <td>1</td>\n",
       "      <td>0</td>\n",
       "      <td>A/5 21171</td>\n",
       "      <td>7.2500</td>\n",
       "      <td>NaN</td>\n",
       "      <td>S</td>\n",
       "    </tr>\n",
       "    <tr>\n",
       "      <th>1</th>\n",
       "      <td>2</td>\n",
       "      <td>1</td>\n",
       "      <td>1</td>\n",
       "      <td>Cumings, Mrs. John Bradley (Florence Briggs Th...</td>\n",
       "      <td>female</td>\n",
       "      <td>38.0</td>\n",
       "      <td>1</td>\n",
       "      <td>0</td>\n",
       "      <td>PC 17599</td>\n",
       "      <td>71.2833</td>\n",
       "      <td>C85</td>\n",
       "      <td>C</td>\n",
       "    </tr>\n",
       "    <tr>\n",
       "      <th>2</th>\n",
       "      <td>3</td>\n",
       "      <td>1</td>\n",
       "      <td>3</td>\n",
       "      <td>Heikkinen, Miss. Laina</td>\n",
       "      <td>female</td>\n",
       "      <td>26.0</td>\n",
       "      <td>0</td>\n",
       "      <td>0</td>\n",
       "      <td>STON/O2. 3101282</td>\n",
       "      <td>7.9250</td>\n",
       "      <td>NaN</td>\n",
       "      <td>S</td>\n",
       "    </tr>\n",
       "    <tr>\n",
       "      <th>3</th>\n",
       "      <td>4</td>\n",
       "      <td>1</td>\n",
       "      <td>1</td>\n",
       "      <td>Futrelle, Mrs. Jacques Heath (Lily May Peel)</td>\n",
       "      <td>female</td>\n",
       "      <td>35.0</td>\n",
       "      <td>1</td>\n",
       "      <td>0</td>\n",
       "      <td>113803</td>\n",
       "      <td>53.1000</td>\n",
       "      <td>C123</td>\n",
       "      <td>S</td>\n",
       "    </tr>\n",
       "    <tr>\n",
       "      <th>4</th>\n",
       "      <td>5</td>\n",
       "      <td>0</td>\n",
       "      <td>3</td>\n",
       "      <td>Allen, Mr. William Henry</td>\n",
       "      <td>male</td>\n",
       "      <td>35.0</td>\n",
       "      <td>0</td>\n",
       "      <td>0</td>\n",
       "      <td>373450</td>\n",
       "      <td>8.0500</td>\n",
       "      <td>NaN</td>\n",
       "      <td>S</td>\n",
       "    </tr>\n",
       "  </tbody>\n",
       "</table>\n",
       "</div>"
      ],
      "text/plain": [
       "   PassengerId  Survived  Pclass  \\\n",
       "0            1         0       3   \n",
       "1            2         1       1   \n",
       "2            3         1       3   \n",
       "3            4         1       1   \n",
       "4            5         0       3   \n",
       "\n",
       "                                                Name     Sex   Age  SibSp  \\\n",
       "0                            Braund, Mr. Owen Harris    male  22.0      1   \n",
       "1  Cumings, Mrs. John Bradley (Florence Briggs Th...  female  38.0      1   \n",
       "2                             Heikkinen, Miss. Laina  female  26.0      0   \n",
       "3       Futrelle, Mrs. Jacques Heath (Lily May Peel)  female  35.0      1   \n",
       "4                           Allen, Mr. William Henry    male  35.0      0   \n",
       "\n",
       "   Parch            Ticket     Fare Cabin Embarked  \n",
       "0      0         A/5 21171   7.2500   NaN        S  \n",
       "1      0          PC 17599  71.2833   C85        C  \n",
       "2      0  STON/O2. 3101282   7.9250   NaN        S  \n",
       "3      0            113803  53.1000  C123        S  \n",
       "4      0            373450   8.0500   NaN        S  "
      ]
     },
     "execution_count": 137,
     "metadata": {},
     "output_type": "execute_result"
    }
   ],
   "source": [
    "td.head(5)"
   ]
  },
  {
   "cell_type": "code",
   "execution_count": 138,
   "metadata": {},
   "outputs": [
    {
     "name": "stdout",
     "output_type": "stream",
     "text": [
      "<class 'pandas.core.frame.DataFrame'>\n",
      "RangeIndex: 891 entries, 0 to 890\n",
      "Data columns (total 12 columns):\n",
      " #   Column       Non-Null Count  Dtype  \n",
      "---  ------       --------------  -----  \n",
      " 0   PassengerId  891 non-null    int64  \n",
      " 1   Survived     891 non-null    int64  \n",
      " 2   Pclass       891 non-null    int64  \n",
      " 3   Name         891 non-null    object \n",
      " 4   Sex          891 non-null    object \n",
      " 5   Age          714 non-null    float64\n",
      " 6   SibSp        891 non-null    int64  \n",
      " 7   Parch        891 non-null    int64  \n",
      " 8   Ticket       891 non-null    object \n",
      " 9   Fare         891 non-null    float64\n",
      " 10  Cabin        204 non-null    object \n",
      " 11  Embarked     889 non-null    object \n",
      "dtypes: float64(2), int64(5), object(5)\n",
      "memory usage: 83.7+ KB\n"
     ]
    }
   ],
   "source": [
    "td.info()"
   ]
  },
  {
   "cell_type": "code",
   "execution_count": 139,
   "metadata": {},
   "outputs": [],
   "source": [
    "td.loc[(td[\"Survived\"] == 1) & (td[\"Pclass\"]==1)&(td[\"Age\"].isna()) , \"Age\"] = td[\"Age\"].fillna(35.4)\n",
    "td.loc[(td[\"Survived\"] == 1) & (td[\"Pclass\"]==2)&(td[\"Age\"].isna()) , \"Age\"] = td[\"Age\"].fillna(26.3)\n",
    "td.loc[(td[\"Survived\"] == 1) & (td[\"Pclass\"]==3)&(td[\"Age\"].isna()) , \"Age\"] = td[\"Age\"].fillna(25)\n",
    "\n",
    "td.loc[(td[\"Survived\"] == 0) & (td[\"Pclass\"]==1)&(td[\"Age\"].isna()) , \"Age\"] = td[\"Age\"].fillna(44)\n",
    "td.loc[(td[\"Survived\"] == 0) & (td[\"Pclass\"]==2)&(td[\"Age\"].isna()) , \"Age\"] = td[\"Age\"].fillna(34.5)\n",
    "td.loc[(td[\"Survived\"] == 0) & (td[\"Pclass\"]==3)&(td[\"Age\"].isna()) , \"Age\"] = td[\"Age\"].fillna(32.16)\n",
    "\n",
    "td.loc[(td[\"Survived\"] == 1) & (td[\"Pclass\"]==1)&(td[\"Cabin\"].isna()) , \"Cabin\"] = td[\"Cabin\"].fillna(\"B96\")\n",
    "td.loc[(td[\"Survived\"] == 1) & (td[\"Pclass\"]==2)&(td[\"Cabin\"].isna()) , \"Cabin\"] = td[\"Cabin\"].fillna(\"E101\")\n",
    "td.loc[(td[\"Survived\"] == 1) & (td[\"Pclass\"]==3)&(td[\"Cabin\"].isna()) , \"Cabin\"] = td[\"Cabin\"].fillna(\"E121\")\n",
    "\n",
    "td.loc[(td[\"Survived\"] == 0) & (td[\"Pclass\"]==1)&(td[\"Cabin\"].isna()) , \"Cabin\"] = td[\"Cabin\"].fillna(\"C124\")\n",
    "td.loc[(td[\"Survived\"] == 0) & (td[\"Pclass\"]==2)&(td[\"Cabin\"].isna()) , \"Cabin\"] = td[\"Cabin\"].fillna(\"D\")\n",
    "td.loc[(td[\"Survived\"] == 0) & (td[\"Pclass\"]==3)&(td[\"Cabin\"].isna()) , \"Cabin\"] = td[\"Cabin\"].fillna(\"F\")\n",
    "# td[\"Embarked\"]=td.Embarked.fillna(\"S\")"
   ]
  },
  {
   "cell_type": "code",
   "execution_count": 140,
   "metadata": {},
   "outputs": [
    {
     "data": {
      "text/plain": [
       "0         F\n",
       "1       C85\n",
       "2      E121\n",
       "3      C123\n",
       "4         F\n",
       "       ... \n",
       "886       D\n",
       "887     B42\n",
       "888       F\n",
       "889    C148\n",
       "890       F\n",
       "Name: Cabin, Length: 891, dtype: object"
      ]
     },
     "execution_count": 140,
     "metadata": {},
     "output_type": "execute_result"
    }
   ],
   "source": [
    "td[\"Cabin\"]"
   ]
  },
  {
   "cell_type": "code",
   "execution_count": 141,
   "metadata": {},
   "outputs": [
    {
     "name": "stdout",
     "output_type": "stream",
     "text": [
      "<class 'pandas.core.frame.DataFrame'>\n",
      "RangeIndex: 891 entries, 0 to 890\n",
      "Data columns (total 12 columns):\n",
      " #   Column       Non-Null Count  Dtype  \n",
      "---  ------       --------------  -----  \n",
      " 0   PassengerId  891 non-null    int64  \n",
      " 1   Survived     891 non-null    int64  \n",
      " 2   Pclass       891 non-null    int64  \n",
      " 3   Name         891 non-null    object \n",
      " 4   Sex          891 non-null    object \n",
      " 5   Age          891 non-null    float64\n",
      " 6   SibSp        891 non-null    int64  \n",
      " 7   Parch        891 non-null    int64  \n",
      " 8   Ticket       891 non-null    object \n",
      " 9   Fare         891 non-null    float64\n",
      " 10  Cabin        891 non-null    object \n",
      " 11  Embarked     889 non-null    object \n",
      "dtypes: float64(2), int64(5), object(5)\n",
      "memory usage: 83.7+ KB\n"
     ]
    }
   ],
   "source": [
    "td.info()"
   ]
  },
  {
   "cell_type": "markdown",
   "metadata": {},
   "source": [
    "# 1.Total No.of Passangers:891"
   ]
  },
  {
   "cell_type": "markdown",
   "metadata": {},
   "source": [
    "# 2.columns/ filds:12"
   ]
  },
  {
   "cell_type": "code",
   "execution_count": 142,
   "metadata": {},
   "outputs": [
    {
     "data": {
      "text/plain": [
       "<Axes: xlabel='Survived', ylabel='count'>"
      ]
     },
     "execution_count": 142,
     "metadata": {},
     "output_type": "execute_result"
    },
    {
     "data": {
      "image/png": "[encoded data removed]",
      "text/plain": [
       "<Figure size 640x480 with 1 Axes>"
      ]
     },
     "metadata": {},
     "output_type": "display_data"
    }
   ],
   "source": [
    "sb.countplot(x=\"Survived\",data=td)"
   ]
  },
  {
   "cell_type": "code",
   "execution_count": null,
   "metadata": {},
   "outputs": [],
   "source": []
  },
  {
   "cell_type": "code",
   "execution_count": 143,
   "metadata": {},
   "outputs": [
    {
     "data": {
      "text/plain": [
       "Age\n",
       "32.16    102\n",
       "25.00     57\n",
       "24.00     30\n",
       "22.00     27\n",
       "18.00     26\n",
       "        ... \n",
       "80.00      1\n",
       "24.50      1\n",
       "0.67       1\n",
       "0.42       1\n",
       "74.00      1\n",
       "Name: count, Length: 91, dtype: int64"
      ]
     },
     "execution_count": 143,
     "metadata": {},
     "output_type": "execute_result"
    }
   ],
   "source": [
    "td[\"Age\"].value_counts()"
   ]
  },
  {
   "cell_type": "code",
   "execution_count": 144,
   "metadata": {},
   "outputs": [
    {
     "data": {
      "text/plain": [
       "np.int64(0)"
      ]
     },
     "execution_count": 144,
     "metadata": {},
     "output_type": "execute_result"
    }
   ],
   "source": [
    "td[\"Survived\"].isnull().sum()"
   ]
  },
  {
   "cell_type": "code",
   "execution_count": 145,
   "metadata": {},
   "outputs": [
    {
     "data": {
      "text/plain": [
       "<Axes: xlabel='Pclass', ylabel='count'>"
      ]
     },
     "execution_count": 145,
     "metadata": {},
     "output_type": "execute_result"
    },
    {
     "data": {
      "image/png": "[encoded data removed]",
      "text/plain": [
       "<Figure size 640x480 with 1 Axes>"
      ]
     },
     "metadata": {},
     "output_type": "display_data"
    }
   ],
   "source": [
    "sb.countplot(x=\"Pclass\", data=td)"
   ]
  },
  {
   "cell_type": "code",
   "execution_count": 146,
   "metadata": {},
   "outputs": [
    {
     "data": {
      "text/plain": [
       "<Axes: xlabel='Pclass', ylabel='count'>"
      ]
     },
     "execution_count": 146,
     "metadata": {},
     "output_type": "execute_result"
    },
    {
     "data": {
      "image/png": "[encoded data removed]",
      "text/plain": [
       "<Figure size 640x480 with 1 Axes>"
      ]
     },
     "metadata": {},
     "output_type": "display_data"
    }
   ],
   "source": [
    "sb.countplot(x=\"Pclass\", hue=\"Sex\",data=td)"
   ]
  },
  {
   "cell_type": "code",
   "execution_count": 147,
   "metadata": {},
   "outputs": [
    {
     "data": {
      "text/plain": [
       "<Axes: xlabel='Survived', ylabel='count'>"
      ]
     },
     "execution_count": 147,
     "metadata": {},
     "output_type": "execute_result"
    },
    {
     "data": {
      "image/png": "[encoded data removed]",
      "text/plain": [
       "<Figure size 640x480 with 1 Axes>"
      ]
     },
     "metadata": {},
     "output_type": "display_data"
    }
   ],
   "source": [
    "sb.countplot(x=\"Survived\", hue=\"Pclass\",data=td)"
   ]
  },
  {
   "cell_type": "code",
   "execution_count": 148,
   "metadata": {},
   "outputs": [
    {
     "data": {
      "text/plain": [
       "<Axes: xlabel='Survived', ylabel='count'>"
      ]
     },
     "execution_count": 148,
     "metadata": {},
     "output_type": "execute_result"
    },
    {
     "data": {
      "image/png": "[encoded data removed]",
      "text/plain": [
       "<Figure size 640x480 with 1 Axes>"
      ]
     },
     "metadata": {},
     "output_type": "display_data"
    }
   ],
   "source": [
    "sb.countplot(x=\"Survived\", hue=\"Age\",data=td)"
   ]
  },
  {
   "cell_type": "code",
   "execution_count": 149,
   "metadata": {},
   "outputs": [
    {
     "data": {
      "text/html": [
       "<div>\n",
       "<style scoped>\n",
       "    .dataframe tbody tr th:only-of-type {\n",
       "        vertical-align: middle;\n",
       "    }\n",
       "\n",
       "    .dataframe tbody tr th {\n",
       "        vertical-align: top;\n",
       "    }\n",
       "\n",
       "    .dataframe thead th {\n",
       "        text-align: right;\n",
       "    }\n",
       "</style>\n",
       "<table border=\"1\" class=\"dataframe\">\n",
       "  <thead>\n",
       "    <tr style=\"text-align: right;\">\n",
       "      <th></th>\n",
       "      <th>PassengerId</th>\n",
       "      <th>Survived</th>\n",
       "      <th>Pclass</th>\n",
       "      <th>Name</th>\n",
       "      <th>Sex</th>\n",
       "      <th>Age</th>\n",
       "      <th>SibSp</th>\n",
       "      <th>Parch</th>\n",
       "      <th>Ticket</th>\n",
       "      <th>Fare</th>\n",
       "      <th>Cabin</th>\n",
       "      <th>Embarked</th>\n",
       "    </tr>\n",
       "  </thead>\n",
       "  <tbody>\n",
       "    <tr>\n",
       "      <th>0</th>\n",
       "      <td>False</td>\n",
       "      <td>False</td>\n",
       "      <td>False</td>\n",
       "      <td>False</td>\n",
       "      <td>False</td>\n",
       "      <td>False</td>\n",
       "      <td>False</td>\n",
       "      <td>False</td>\n",
       "      <td>False</td>\n",
       "      <td>False</td>\n",
       "      <td>False</td>\n",
       "      <td>False</td>\n",
       "    </tr>\n",
       "    <tr>\n",
       "      <th>1</th>\n",
       "      <td>False</td>\n",
       "      <td>False</td>\n",
       "      <td>False</td>\n",
       "      <td>False</td>\n",
       "      <td>False</td>\n",
       "      <td>False</td>\n",
       "      <td>False</td>\n",
       "      <td>False</td>\n",
       "      <td>False</td>\n",
       "      <td>False</td>\n",
       "      <td>False</td>\n",
       "      <td>False</td>\n",
       "    </tr>\n",
       "    <tr>\n",
       "      <th>2</th>\n",
       "      <td>False</td>\n",
       "      <td>False</td>\n",
       "      <td>False</td>\n",
       "      <td>False</td>\n",
       "      <td>False</td>\n",
       "      <td>False</td>\n",
       "      <td>False</td>\n",
       "      <td>False</td>\n",
       "      <td>False</td>\n",
       "      <td>False</td>\n",
       "      <td>False</td>\n",
       "      <td>False</td>\n",
       "    </tr>\n",
       "    <tr>\n",
       "      <th>3</th>\n",
       "      <td>False</td>\n",
       "      <td>False</td>\n",
       "      <td>False</td>\n",
       "      <td>False</td>\n",
       "      <td>False</td>\n",
       "      <td>False</td>\n",
       "      <td>False</td>\n",
       "      <td>False</td>\n",
       "      <td>False</td>\n",
       "      <td>False</td>\n",
       "      <td>False</td>\n",
       "      <td>False</td>\n",
       "    </tr>\n",
       "    <tr>\n",
       "      <th>4</th>\n",
       "      <td>False</td>\n",
       "      <td>False</td>\n",
       "      <td>False</td>\n",
       "      <td>False</td>\n",
       "      <td>False</td>\n",
       "      <td>False</td>\n",
       "      <td>False</td>\n",
       "      <td>False</td>\n",
       "      <td>False</td>\n",
       "      <td>False</td>\n",
       "      <td>False</td>\n",
       "      <td>False</td>\n",
       "    </tr>\n",
       "    <tr>\n",
       "      <th>...</th>\n",
       "      <td>...</td>\n",
       "      <td>...</td>\n",
       "      <td>...</td>\n",
       "      <td>...</td>\n",
       "      <td>...</td>\n",
       "      <td>...</td>\n",
       "      <td>...</td>\n",
       "      <td>...</td>\n",
       "      <td>...</td>\n",
       "      <td>...</td>\n",
       "      <td>...</td>\n",
       "      <td>...</td>\n",
       "    </tr>\n",
       "    <tr>\n",
       "      <th>886</th>\n",
       "      <td>False</td>\n",
       "      <td>False</td>\n",
       "      <td>False</td>\n",
       "      <td>False</td>\n",
       "      <td>False</td>\n",
       "      <td>False</td>\n",
       "      <td>False</td>\n",
       "      <td>False</td>\n",
       "      <td>False</td>\n",
       "      <td>False</td>\n",
       "      <td>False</td>\n",
       "      <td>False</td>\n",
       "    </tr>\n",
       "    <tr>\n",
       "      <th>887</th>\n",
       "      <td>False</td>\n",
       "      <td>False</td>\n",
       "      <td>False</td>\n",
       "      <td>False</td>\n",
       "      <td>False</td>\n",
       "      <td>False</td>\n",
       "      <td>False</td>\n",
       "      <td>False</td>\n",
       "      <td>False</td>\n",
       "      <td>False</td>\n",
       "      <td>False</td>\n",
       "      <td>False</td>\n",
       "    </tr>\n",
       "    <tr>\n",
       "      <th>888</th>\n",
       "      <td>False</td>\n",
       "      <td>False</td>\n",
       "      <td>False</td>\n",
       "      <td>False</td>\n",
       "      <td>False</td>\n",
       "      <td>False</td>\n",
       "      <td>False</td>\n",
       "      <td>False</td>\n",
       "      <td>False</td>\n",
       "      <td>False</td>\n",
       "      <td>False</td>\n",
       "      <td>False</td>\n",
       "    </tr>\n",
       "    <tr>\n",
       "      <th>889</th>\n",
       "      <td>False</td>\n",
       "      <td>False</td>\n",
       "      <td>False</td>\n",
       "      <td>False</td>\n",
       "      <td>False</td>\n",
       "      <td>False</td>\n",
       "      <td>False</td>\n",
       "      <td>False</td>\n",
       "      <td>False</td>\n",
       "      <td>False</td>\n",
       "      <td>False</td>\n",
       "      <td>False</td>\n",
       "    </tr>\n",
       "    <tr>\n",
       "      <th>890</th>\n",
       "      <td>False</td>\n",
       "      <td>False</td>\n",
       "      <td>False</td>\n",
       "      <td>False</td>\n",
       "      <td>False</td>\n",
       "      <td>False</td>\n",
       "      <td>False</td>\n",
       "      <td>False</td>\n",
       "      <td>False</td>\n",
       "      <td>False</td>\n",
       "      <td>False</td>\n",
       "      <td>False</td>\n",
       "    </tr>\n",
       "  </tbody>\n",
       "</table>\n",
       "<p>891 rows × 12 columns</p>\n",
       "</div>"
      ],
      "text/plain": [
       "     PassengerId  Survived  Pclass   Name    Sex    Age  SibSp  Parch  Ticket  \\\n",
       "0          False     False   False  False  False  False  False  False   False   \n",
       "1          False     False   False  False  False  False  False  False   False   \n",
       "2          False     False   False  False  False  False  False  False   False   \n",
       "3          False     False   False  False  False  False  False  False   False   \n",
       "4          False     False   False  False  False  False  False  False   False   \n",
       "..           ...       ...     ...    ...    ...    ...    ...    ...     ...   \n",
       "886        False     False   False  False  False  False  False  False   False   \n",
       "887        False     False   False  False  False  False  False  False   False   \n",
       "888        False     False   False  False  False  False  False  False   False   \n",
       "889        False     False   False  False  False  False  False  False   False   \n",
       "890        False     False   False  False  False  False  False  False   False   \n",
       "\n",
       "      Fare  Cabin  Embarked  \n",
       "0    False  False     False  \n",
       "1    False  False     False  \n",
       "2    False  False     False  \n",
       "3    False  False     False  \n",
       "4    False  False     False  \n",
       "..     ...    ...       ...  \n",
       "886  False  False     False  \n",
       "887  False  False     False  \n",
       "888  False  False     False  \n",
       "889  False  False     False  \n",
       "890  False  False     False  \n",
       "\n",
       "[891 rows x 12 columns]"
      ]
     },
     "execution_count": 149,
     "metadata": {},
     "output_type": "execute_result"
    }
   ],
   "source": [
    "td.isnull()"
   ]
  },
  {
   "cell_type": "code",
   "execution_count": 150,
   "metadata": {},
   "outputs": [
    {
     "data": {
      "text/plain": [
       "PassengerId    0\n",
       "Survived       0\n",
       "Pclass         0\n",
       "Name           0\n",
       "Sex            0\n",
       "Age            0\n",
       "SibSp          0\n",
       "Parch          0\n",
       "Ticket         0\n",
       "Fare           0\n",
       "Cabin          0\n",
       "Embarked       2\n",
       "dtype: int64"
      ]
     },
     "execution_count": 150,
     "metadata": {},
     "output_type": "execute_result"
    }
   ],
   "source": [
    "td.isnull().sum()"
   ]
  },
  {
   "cell_type": "code",
   "execution_count": 151,
   "metadata": {},
   "outputs": [
    {
     "data": {
      "text/plain": [
       "Embarked\n",
       "S    644\n",
       "C    168\n",
       "Q     77\n",
       "Name: count, dtype: int64"
      ]
     },
     "execution_count": 151,
     "metadata": {},
     "output_type": "execute_result"
    }
   ],
   "source": [
    "td[\"Embarked\"].value_counts()"
   ]
  },
  {
   "cell_type": "code",
   "execution_count": 152,
   "metadata": {},
   "outputs": [
    {
     "data": {
      "text/plain": [
       "Cabin\n",
       "F       366\n",
       "E121    115\n",
       "D        97\n",
       "E101     77\n",
       "C124     23\n",
       "       ... \n",
       "E17       1\n",
       "A24       1\n",
       "C50       1\n",
       "B42       1\n",
       "C148      1\n",
       "Name: count, Length: 149, dtype: int64"
      ]
     },
     "execution_count": 152,
     "metadata": {},
     "output_type": "execute_result"
    }
   ],
   "source": [
    "td[\"Cabin\"].value_counts()"
   ]
  },
  {
   "cell_type": "code",
   "execution_count": null,
   "metadata": {},
   "outputs": [],
   "source": []
  },
  {
   "cell_type": "code",
   "execution_count": 153,
   "metadata": {},
   "outputs": [
    {
     "name": "stdout",
     "output_type": "stream",
     "text": [
      "<class 'pandas.core.frame.DataFrame'>\n",
      "RangeIndex: 891 entries, 0 to 890\n",
      "Data columns (total 12 columns):\n",
      " #   Column       Non-Null Count  Dtype  \n",
      "---  ------       --------------  -----  \n",
      " 0   PassengerId  891 non-null    int64  \n",
      " 1   Survived     891 non-null    int64  \n",
      " 2   Pclass       891 non-null    int64  \n",
      " 3   Name         891 non-null    object \n",
      " 4   Sex          891 non-null    object \n",
      " 5   Age          891 non-null    float64\n",
      " 6   SibSp        891 non-null    int64  \n",
      " 7   Parch        891 non-null    int64  \n",
      " 8   Ticket       891 non-null    object \n",
      " 9   Fare         891 non-null    float64\n",
      " 10  Cabin        891 non-null    object \n",
      " 11  Embarked     889 non-null    object \n",
      "dtypes: float64(2), int64(5), object(5)\n",
      "memory usage: 83.7+ KB\n"
     ]
    }
   ],
   "source": [
    "td.info()"
   ]
  },
  {
   "cell_type": "code",
   "execution_count": 154,
   "metadata": {},
   "outputs": [
    {
     "data": {
      "text/plain": [
       "Survived\n",
       "0    549\n",
       "1    342\n",
       "Name: count, dtype: int64"
      ]
     },
     "execution_count": 154,
     "metadata": {},
     "output_type": "execute_result"
    }
   ],
   "source": [
    "td[\"Survived\"].value_counts()"
   ]
  },
  {
   "cell_type": "code",
   "execution_count": 155,
   "metadata": {},
   "outputs": [],
   "source": [
    "td.dropna(inplace=True)"
   ]
  },
  {
   "cell_type": "code",
   "execution_count": 156,
   "metadata": {},
   "outputs": [
    {
     "data": {
      "text/plain": [
       "Survived\n",
       "0    549\n",
       "1    340\n",
       "Name: count, dtype: int64"
      ]
     },
     "execution_count": 156,
     "metadata": {},
     "output_type": "execute_result"
    }
   ],
   "source": [
    "td[\"Survived\"].value_counts()"
   ]
  },
  {
   "cell_type": "code",
   "execution_count": 157,
   "metadata": {},
   "outputs": [
    {
     "data": {
      "text/plain": [
       "PassengerId    0\n",
       "Survived       0\n",
       "Pclass         0\n",
       "Name           0\n",
       "Sex            0\n",
       "Age            0\n",
       "SibSp          0\n",
       "Parch          0\n",
       "Ticket         0\n",
       "Fare           0\n",
       "Cabin          0\n",
       "Embarked       0\n",
       "dtype: int64"
      ]
     },
     "execution_count": 157,
     "metadata": {},
     "output_type": "execute_result"
    }
   ],
   "source": [
    "td.isnull().sum()"
   ]
  },
  {
   "cell_type": "code",
   "execution_count": 158,
   "metadata": {},
   "outputs": [
    {
     "name": "stdout",
     "output_type": "stream",
     "text": [
      "<class 'pandas.core.frame.DataFrame'>\n",
      "Index: 889 entries, 0 to 890\n",
      "Data columns (total 12 columns):\n",
      " #   Column       Non-Null Count  Dtype\n",
      "---  ------       --------------  -----\n",
      " 0   PassengerId  889 non-null    bool \n",
      " 1   Survived     889 non-null    bool \n",
      " 2   Pclass       889 non-null    bool \n",
      " 3   Name         889 non-null    bool \n",
      " 4   Sex          889 non-null    bool \n",
      " 5   Age          889 non-null    bool \n",
      " 6   SibSp        889 non-null    bool \n",
      " 7   Parch        889 non-null    bool \n",
      " 8   Ticket       889 non-null    bool \n",
      " 9   Fare         889 non-null    bool \n",
      " 10  Cabin        889 non-null    bool \n",
      " 11  Embarked     889 non-null    bool \n",
      "dtypes: bool(12)\n",
      "memory usage: 17.4 KB\n"
     ]
    }
   ],
   "source": [
    "td.isnull().info()"
   ]
  },
  {
   "cell_type": "code",
   "execution_count": 159,
   "metadata": {},
   "outputs": [
    {
     "name": "stdout",
     "output_type": "stream",
     "text": [
      "0        male\n",
      "1      female\n",
      "2      female\n",
      "3      female\n",
      "4        male\n",
      "        ...  \n",
      "886      male\n",
      "887    female\n",
      "888    female\n",
      "889      male\n",
      "890      male\n",
      "Name: Sex, Length: 889, dtype: object\n"
     ]
    }
   ],
   "source": [
    "print(td['Sex'])"
   ]
  },
  {
   "cell_type": "code",
   "execution_count": 160,
   "metadata": {},
   "outputs": [],
   "source": [
    "sex=pd.get_dummies(td['Sex'])"
   ]
  },
  {
   "cell_type": "code",
   "execution_count": 161,
   "metadata": {},
   "outputs": [
    {
     "name": "stdout",
     "output_type": "stream",
     "text": [
      "     female   male\n",
      "0     False   True\n",
      "1      True  False\n",
      "2      True  False\n",
      "3      True  False\n",
      "4     False   True\n",
      "..      ...    ...\n",
      "886   False   True\n",
      "887    True  False\n",
      "888    True  False\n",
      "889   False   True\n",
      "890   False   True\n",
      "\n",
      "[889 rows x 2 columns]\n"
     ]
    }
   ],
   "source": [
    "print(sex)"
   ]
  },
  {
   "cell_type": "code",
   "execution_count": 162,
   "metadata": {},
   "outputs": [
    {
     "name": "stdout",
     "output_type": "stream",
     "text": [
      "0         F\n",
      "1       C85\n",
      "2      E121\n",
      "3      C123\n",
      "4         F\n",
      "       ... \n",
      "886       D\n",
      "887     B42\n",
      "888       F\n",
      "889    C148\n",
      "890       F\n",
      "Name: Cabin, Length: 889, dtype: object\n"
     ]
    }
   ],
   "source": [
    "print(td['Cabin'])"
   ]
  },
  {
   "cell_type": "code",
   "execution_count": 163,
   "metadata": {},
   "outputs": [],
   "source": [
    "ca=pd.get_dummies(td['Cabin'])"
   ]
  },
  {
   "cell_type": "code",
   "execution_count": 164,
   "metadata": {},
   "outputs": [
    {
     "name": "stdout",
     "output_type": "stream",
     "text": [
      "       A10    A14    A16    A19    A20    A23    A24    A26    A31    A32  \\\n",
      "0    False  False  False  False  False  False  False  False  False  False   \n",
      "1    False  False  False  False  False  False  False  False  False  False   \n",
      "2    False  False  False  False  False  False  False  False  False  False   \n",
      "3    False  False  False  False  False  False  False  False  False  False   \n",
      "4    False  False  False  False  False  False  False  False  False  False   \n",
      "..     ...    ...    ...    ...    ...    ...    ...    ...    ...    ...   \n",
      "886  False  False  False  False  False  False  False  False  False  False   \n",
      "887  False  False  False  False  False  False  False  False  False  False   \n",
      "888  False  False  False  False  False  False  False  False  False  False   \n",
      "889  False  False  False  False  False  False  False  False  False  False   \n",
      "890  False  False  False  False  False  False  False  False  False  False   \n",
      "\n",
      "     ...      F  F E69  F G63  F G73     F2    F33    F38     F4     G6      T  \n",
      "0    ...   True  False  False  False  False  False  False  False  False  False  \n",
      "1    ...  False  False  False  False  False  False  False  False  False  False  \n",
      "2    ...  False  False  False  False  False  False  False  False  False  False  \n",
      "3    ...  False  False  False  False  False  False  False  False  False  False  \n",
      "4    ...   True  False  False  False  False  False  False  False  False  False  \n",
      "..   ...    ...    ...    ...    ...    ...    ...    ...    ...    ...    ...  \n",
      "886  ...  False  False  False  False  False  False  False  False  False  False  \n",
      "887  ...  False  False  False  False  False  False  False  False  False  False  \n",
      "888  ...   True  False  False  False  False  False  False  False  False  False  \n",
      "889  ...  False  False  False  False  False  False  False  False  False  False  \n",
      "890  ...   True  False  False  False  False  False  False  False  False  False  \n",
      "\n",
      "[889 rows x 148 columns]\n"
     ]
    }
   ],
   "source": [
    "print(ca)"
   ]
  },
  {
   "cell_type": "code",
   "execution_count": 165,
   "metadata": {},
   "outputs": [
    {
     "name": "stdout",
     "output_type": "stream",
     "text": [
      "0      S\n",
      "1      C\n",
      "2      S\n",
      "3      S\n",
      "4      S\n",
      "      ..\n",
      "886    S\n",
      "887    S\n",
      "888    S\n",
      "889    C\n",
      "890    Q\n",
      "Name: Embarked, Length: 889, dtype: object\n"
     ]
    }
   ],
   "source": [
    "print(td['Embarked'])"
   ]
  },
  {
   "cell_type": "code",
   "execution_count": 166,
   "metadata": {},
   "outputs": [],
   "source": [
    "emb=pd.get_dummies(td['Embarked'])"
   ]
  },
  {
   "cell_type": "code",
   "execution_count": 167,
   "metadata": {},
   "outputs": [
    {
     "name": "stdout",
     "output_type": "stream",
     "text": [
      "         C      Q      S\n",
      "0    False  False   True\n",
      "1     True  False  False\n",
      "2    False  False   True\n",
      "3    False  False   True\n",
      "4    False  False   True\n",
      "..     ...    ...    ...\n",
      "886  False  False   True\n",
      "887  False  False   True\n",
      "888  False  False   True\n",
      "889   True  False  False\n",
      "890  False   True  False\n",
      "\n",
      "[889 rows x 3 columns]\n"
     ]
    }
   ],
   "source": [
    "print(emb)"
   ]
  },
  {
   "cell_type": "code",
   "execution_count": 168,
   "metadata": {},
   "outputs": [
    {
     "name": "stdout",
     "output_type": "stream",
     "text": [
      "0      3\n",
      "1      1\n",
      "2      3\n",
      "3      1\n",
      "4      3\n",
      "      ..\n",
      "886    2\n",
      "887    1\n",
      "888    3\n",
      "889    1\n",
      "890    3\n",
      "Name: Pclass, Length: 889, dtype: int64\n"
     ]
    }
   ],
   "source": [
    "print(td['Pclass'])"
   ]
  },
  {
   "cell_type": "code",
   "execution_count": 169,
   "metadata": {},
   "outputs": [],
   "source": [
    "pcls=pd.get_dummies(td['Pclass'],prefix=\"Pclass\")"
   ]
  },
  {
   "cell_type": "code",
   "execution_count": 170,
   "metadata": {},
   "outputs": [
    {
     "name": "stdout",
     "output_type": "stream",
     "text": [
      "     Pclass_1  Pclass_2  Pclass_3\n",
      "0       False     False      True\n",
      "1        True     False     False\n",
      "2       False     False      True\n",
      "3        True     False     False\n",
      "4       False     False      True\n",
      "..        ...       ...       ...\n",
      "886     False      True     False\n",
      "887      True     False     False\n",
      "888     False     False      True\n",
      "889      True     False     False\n",
      "890     False     False      True\n",
      "\n",
      "[889 rows x 3 columns]\n"
     ]
    }
   ],
   "source": [
    "print(pcls)"
   ]
  },
  {
   "cell_type": "code",
   "execution_count": 171,
   "metadata": {},
   "outputs": [],
   "source": [
    "td.drop([\"Pclass\",\"Sex\",\"Embarked\",\"Cabin\"],axis=1,inplace=True)"
   ]
  },
  {
   "cell_type": "code",
   "execution_count": 172,
   "metadata": {},
   "outputs": [],
   "source": [
    "td=pd.concat([td,sex,emb,pcls,ca],axis=1)"
   ]
  },
  {
   "cell_type": "code",
   "execution_count": 173,
   "metadata": {},
   "outputs": [
    {
     "name": "stdout",
     "output_type": "stream",
     "text": [
      "<class 'pandas.core.frame.DataFrame'>\n",
      "Index: 889 entries, 0 to 890\n",
      "Columns: 164 entries, PassengerId to T\n",
      "dtypes: bool(156), float64(2), int64(4), object(2)\n",
      "memory usage: 197.9+ KB\n",
      "None\n"
     ]
    }
   ],
   "source": [
    "print(td.info())"
   ]
  },
  {
   "cell_type": "code",
   "execution_count": 174,
   "metadata": {},
   "outputs": [],
   "source": [
    "td.drop([\"Name\",\"PassengerId\",\"Ticket\"],axis=1,inplace=True)"
   ]
  },
  {
   "cell_type": "code",
   "execution_count": 175,
   "metadata": {},
   "outputs": [
    {
     "name": "stdout",
     "output_type": "stream",
     "text": [
      "<class 'pandas.core.frame.DataFrame'>\n",
      "Index: 889 entries, 0 to 890\n",
      "Columns: 161 entries, Survived to T\n",
      "dtypes: bool(156), float64(2), int64(3)\n",
      "memory usage: 177.1 KB\n"
     ]
    }
   ],
   "source": [
    "td.info()"
   ]
  },
  {
   "cell_type": "code",
   "execution_count": 176,
   "metadata": {},
   "outputs": [],
   "source": [
    "td[\"AGE-D\"]=td[\"Age\"]"
   ]
  },
  {
   "cell_type": "code",
   "execution_count": 177,
   "metadata": {},
   "outputs": [],
   "source": [
    "td[\"SIBSP-D\"]=td[\"SibSp\"]"
   ]
  },
  {
   "cell_type": "code",
   "execution_count": 204,
   "metadata": {},
   "outputs": [
    {
     "data": {
      "text/html": [
       "<div>\n",
       "<style scoped>\n",
       "    .dataframe tbody tr th:only-of-type {\n",
       "        vertical-align: middle;\n",
       "    }\n",
       "\n",
       "    .dataframe tbody tr th {\n",
       "        vertical-align: top;\n",
       "    }\n",
       "\n",
       "    .dataframe thead th {\n",
       "        text-align: right;\n",
       "    }\n",
       "</style>\n",
       "<table border=\"1\" class=\"dataframe\">\n",
       "  <thead>\n",
       "    <tr style=\"text-align: right;\">\n",
       "      <th></th>\n",
       "      <th>Survived</th>\n",
       "      <th>Age</th>\n",
       "      <th>SibSp</th>\n",
       "      <th>Parch</th>\n",
       "      <th>Fare</th>\n",
       "      <th>female</th>\n",
       "      <th>male</th>\n",
       "      <th>C</th>\n",
       "      <th>Q</th>\n",
       "      <th>S</th>\n",
       "      <th>...</th>\n",
       "      <th>F G63</th>\n",
       "      <th>F G73</th>\n",
       "      <th>F2</th>\n",
       "      <th>F33</th>\n",
       "      <th>F38</th>\n",
       "      <th>F4</th>\n",
       "      <th>G6</th>\n",
       "      <th>T</th>\n",
       "      <th>AGE-D</th>\n",
       "      <th>SIBSP-D</th>\n",
       "    </tr>\n",
       "  </thead>\n",
       "  <tbody>\n",
       "    <tr>\n",
       "      <th>Survived</th>\n",
       "      <td>1.000000</td>\n",
       "      <td>-0.118041</td>\n",
       "      <td>-0.034040</td>\n",
       "      <td>0.083151</td>\n",
       "      <td>0.255290</td>\n",
       "      <td>0.541585</td>\n",
       "      <td>-0.541585</td>\n",
       "      <td>0.169966</td>\n",
       "      <td>0.004536</td>\n",
       "      <td>-0.151777</td>\n",
       "      <td>...</td>\n",
       "      <td>-0.026409</td>\n",
       "      <td>-0.037369</td>\n",
       "      <td>0.034030</td>\n",
       "      <td>0.073942</td>\n",
       "      <td>-0.026409</td>\n",
       "      <td>0.060339</td>\n",
       "      <td>0.016261</td>\n",
       "      <td>-0.026409</td>\n",
       "      <td>-0.118041</td>\n",
       "      <td>-0.034040</td>\n",
       "    </tr>\n",
       "    <tr>\n",
       "      <th>Age</th>\n",
       "      <td>-0.118041</td>\n",
       "      <td>1.000000</td>\n",
       "      <td>-0.231668</td>\n",
       "      <td>-0.187346</td>\n",
       "      <td>0.096705</td>\n",
       "      <td>-0.119845</td>\n",
       "      <td>0.119845</td>\n",
       "      <td>0.041822</td>\n",
       "      <td>-0.034452</td>\n",
       "      <td>-0.014956</td>\n",
       "      <td>...</td>\n",
       "      <td>0.030228</td>\n",
       "      <td>-0.029270</td>\n",
       "      <td>-0.071918</td>\n",
       "      <td>-0.004969</td>\n",
       "      <td>0.005179</td>\n",
       "      <td>-0.099512</td>\n",
       "      <td>-0.078415</td>\n",
       "      <td>0.037865</td>\n",
       "      <td>1.000000</td>\n",
       "      <td>-0.231668</td>\n",
       "    </tr>\n",
       "    <tr>\n",
       "      <th>SibSp</th>\n",
       "      <td>-0.034040</td>\n",
       "      <td>-0.231668</td>\n",
       "      <td>1.000000</td>\n",
       "      <td>0.414542</td>\n",
       "      <td>0.160887</td>\n",
       "      <td>0.116348</td>\n",
       "      <td>-0.116348</td>\n",
       "      <td>-0.060074</td>\n",
       "      <td>-0.026692</td>\n",
       "      <td>0.069438</td>\n",
       "      <td>...</td>\n",
       "      <td>-0.015947</td>\n",
       "      <td>-0.022565</td>\n",
       "      <td>0.007516</td>\n",
       "      <td>-0.027652</td>\n",
       "      <td>-0.015947</td>\n",
       "      <td>0.063530</td>\n",
       "      <td>-0.001474</td>\n",
       "      <td>-0.015947</td>\n",
       "      <td>-0.231668</td>\n",
       "      <td>1.000000</td>\n",
       "    </tr>\n",
       "    <tr>\n",
       "      <th>Parch</th>\n",
       "      <td>0.083151</td>\n",
       "      <td>-0.187346</td>\n",
       "      <td>0.414542</td>\n",
       "      <td>1.000000</td>\n",
       "      <td>0.217532</td>\n",
       "      <td>0.247508</td>\n",
       "      <td>-0.247508</td>\n",
       "      <td>-0.011588</td>\n",
       "      <td>-0.081585</td>\n",
       "      <td>0.061512</td>\n",
       "      <td>...</td>\n",
       "      <td>-0.015917</td>\n",
       "      <td>-0.022523</td>\n",
       "      <td>0.068623</td>\n",
       "      <td>-0.027601</td>\n",
       "      <td>-0.015917</td>\n",
       "      <td>0.036368</td>\n",
       "      <td>0.072335</td>\n",
       "      <td>-0.015917</td>\n",
       "      <td>-0.187346</td>\n",
       "      <td>0.414542</td>\n",
       "    </tr>\n",
       "    <tr>\n",
       "      <th>Fare</th>\n",
       "      <td>0.255290</td>\n",
       "      <td>0.096705</td>\n",
       "      <td>0.160887</td>\n",
       "      <td>0.217532</td>\n",
       "      <td>1.000000</td>\n",
       "      <td>0.179958</td>\n",
       "      <td>-0.179958</td>\n",
       "      <td>0.270731</td>\n",
       "      <td>-0.116684</td>\n",
       "      <td>-0.163758</td>\n",
       "      <td>...</td>\n",
       "      <td>-0.016517</td>\n",
       "      <td>-0.023371</td>\n",
       "      <td>-0.007142</td>\n",
       "      <td>-0.024325</td>\n",
       "      <td>-0.016449</td>\n",
       "      <td>0.006600</td>\n",
       "      <td>-0.025061</td>\n",
       "      <td>0.002299</td>\n",
       "      <td>0.096705</td>\n",
       "      <td>0.160887</td>\n",
       "    </tr>\n",
       "    <tr>\n",
       "      <th>...</th>\n",
       "      <td>...</td>\n",
       "      <td>...</td>\n",
       "      <td>...</td>\n",
       "      <td>...</td>\n",
       "      <td>...</td>\n",
       "      <td>...</td>\n",
       "      <td>...</td>\n",
       "      <td>...</td>\n",
       "      <td>...</td>\n",
       "      <td>...</td>\n",
       "      <td>...</td>\n",
       "      <td>...</td>\n",
       "      <td>...</td>\n",
       "      <td>...</td>\n",
       "      <td>...</td>\n",
       "      <td>...</td>\n",
       "      <td>...</td>\n",
       "      <td>...</td>\n",
       "      <td>...</td>\n",
       "      <td>...</td>\n",
       "      <td>...</td>\n",
       "    </tr>\n",
       "    <tr>\n",
       "      <th>F4</th>\n",
       "      <td>0.060339</td>\n",
       "      <td>-0.099512</td>\n",
       "      <td>0.063530</td>\n",
       "      <td>0.036368</td>\n",
       "      <td>0.006600</td>\n",
       "      <td>0.014829</td>\n",
       "      <td>-0.014829</td>\n",
       "      <td>-0.022921</td>\n",
       "      <td>-0.014622</td>\n",
       "      <td>0.029288</td>\n",
       "      <td>...</td>\n",
       "      <td>-0.001593</td>\n",
       "      <td>-0.002255</td>\n",
       "      <td>-0.002763</td>\n",
       "      <td>-0.002763</td>\n",
       "      <td>-0.001593</td>\n",
       "      <td>1.000000</td>\n",
       "      <td>-0.003192</td>\n",
       "      <td>-0.001593</td>\n",
       "      <td>-0.099512</td>\n",
       "      <td>0.063530</td>\n",
       "    </tr>\n",
       "    <tr>\n",
       "      <th>G6</th>\n",
       "      <td>0.016261</td>\n",
       "      <td>-0.078415</td>\n",
       "      <td>-0.001474</td>\n",
       "      <td>0.072335</td>\n",
       "      <td>-0.025061</td>\n",
       "      <td>0.091426</td>\n",
       "      <td>-0.091426</td>\n",
       "      <td>-0.032452</td>\n",
       "      <td>-0.020703</td>\n",
       "      <td>0.041467</td>\n",
       "      <td>...</td>\n",
       "      <td>-0.002256</td>\n",
       "      <td>-0.003192</td>\n",
       "      <td>-0.003912</td>\n",
       "      <td>-0.003912</td>\n",
       "      <td>-0.002256</td>\n",
       "      <td>-0.003192</td>\n",
       "      <td>1.000000</td>\n",
       "      <td>-0.002256</td>\n",
       "      <td>-0.078415</td>\n",
       "      <td>-0.001474</td>\n",
       "    </tr>\n",
       "    <tr>\n",
       "      <th>T</th>\n",
       "      <td>-0.026409</td>\n",
       "      <td>0.037865</td>\n",
       "      <td>-0.015947</td>\n",
       "      <td>-0.015917</td>\n",
       "      <td>0.002299</td>\n",
       "      <td>-0.024676</td>\n",
       "      <td>0.024676</td>\n",
       "      <td>-0.016199</td>\n",
       "      <td>-0.010334</td>\n",
       "      <td>0.020698</td>\n",
       "      <td>...</td>\n",
       "      <td>-0.001126</td>\n",
       "      <td>-0.001593</td>\n",
       "      <td>-0.001953</td>\n",
       "      <td>-0.001953</td>\n",
       "      <td>-0.001126</td>\n",
       "      <td>-0.001593</td>\n",
       "      <td>-0.002256</td>\n",
       "      <td>1.000000</td>\n",
       "      <td>0.037865</td>\n",
       "      <td>-0.015947</td>\n",
       "    </tr>\n",
       "    <tr>\n",
       "      <th>AGE-D</th>\n",
       "      <td>-0.118041</td>\n",
       "      <td>1.000000</td>\n",
       "      <td>-0.231668</td>\n",
       "      <td>-0.187346</td>\n",
       "      <td>0.096705</td>\n",
       "      <td>-0.119845</td>\n",
       "      <td>0.119845</td>\n",
       "      <td>0.041822</td>\n",
       "      <td>-0.034452</td>\n",
       "      <td>-0.014956</td>\n",
       "      <td>...</td>\n",
       "      <td>0.030228</td>\n",
       "      <td>-0.029270</td>\n",
       "      <td>-0.071918</td>\n",
       "      <td>-0.004969</td>\n",
       "      <td>0.005179</td>\n",
       "      <td>-0.099512</td>\n",
       "      <td>-0.078415</td>\n",
       "      <td>0.037865</td>\n",
       "      <td>1.000000</td>\n",
       "      <td>-0.231668</td>\n",
       "    </tr>\n",
       "    <tr>\n",
       "      <th>SIBSP-D</th>\n",
       "      <td>-0.034040</td>\n",
       "      <td>-0.231668</td>\n",
       "      <td>1.000000</td>\n",
       "      <td>0.414542</td>\n",
       "      <td>0.160887</td>\n",
       "      <td>0.116348</td>\n",
       "      <td>-0.116348</td>\n",
       "      <td>-0.060074</td>\n",
       "      <td>-0.026692</td>\n",
       "      <td>0.069438</td>\n",
       "      <td>...</td>\n",
       "      <td>-0.015947</td>\n",
       "      <td>-0.022565</td>\n",
       "      <td>0.007516</td>\n",
       "      <td>-0.027652</td>\n",
       "      <td>-0.015947</td>\n",
       "      <td>0.063530</td>\n",
       "      <td>-0.001474</td>\n",
       "      <td>-0.015947</td>\n",
       "      <td>-0.231668</td>\n",
       "      <td>1.000000</td>\n",
       "    </tr>\n",
       "  </tbody>\n",
       "</table>\n",
       "<p>163 rows × 163 columns</p>\n",
       "</div>"
      ],
      "text/plain": [
       "          Survived       Age     SibSp     Parch      Fare    female  \\\n",
       "Survived  1.000000 -0.118041 -0.034040  0.083151  0.255290  0.541585   \n",
       "Age      -0.118041  1.000000 -0.231668 -0.187346  0.096705 -0.119845   \n",
       "SibSp    -0.034040 -0.231668  1.000000  0.414542  0.160887  0.116348   \n",
       "Parch     0.083151 -0.187346  0.414542  1.000000  0.217532  0.247508   \n",
       "Fare      0.255290  0.096705  0.160887  0.217532  1.000000  0.179958   \n",
       "...            ...       ...       ...       ...       ...       ...   \n",
       "F4        0.060339 -0.099512  0.063530  0.036368  0.006600  0.014829   \n",
       "G6        0.016261 -0.078415 -0.001474  0.072335 -0.025061  0.091426   \n",
       "T        -0.026409  0.037865 -0.015947 -0.015917  0.002299 -0.024676   \n",
       "AGE-D    -0.118041  1.000000 -0.231668 -0.187346  0.096705 -0.119845   \n",
       "SIBSP-D  -0.034040 -0.231668  1.000000  0.414542  0.160887  0.116348   \n",
       "\n",
       "              male         C         Q         S  ...     F G63     F G73  \\\n",
       "Survived -0.541585  0.169966  0.004536 -0.151777  ... -0.026409 -0.037369   \n",
       "Age       0.119845  0.041822 -0.034452 -0.014956  ...  0.030228 -0.029270   \n",
       "SibSp    -0.116348 -0.060074 -0.026692  0.069438  ... -0.015947 -0.022565   \n",
       "Parch    -0.247508 -0.011588 -0.081585  0.061512  ... -0.015917 -0.022523   \n",
       "Fare     -0.179958  0.270731 -0.116684 -0.163758  ... -0.016517 -0.023371   \n",
       "...            ...       ...       ...       ...  ...       ...       ...   \n",
       "F4       -0.014829 -0.022921 -0.014622  0.029288  ... -0.001593 -0.002255   \n",
       "G6       -0.091426 -0.032452 -0.020703  0.041467  ... -0.002256 -0.003192   \n",
       "T         0.024676 -0.016199 -0.010334  0.020698  ... -0.001126 -0.001593   \n",
       "AGE-D     0.119845  0.041822 -0.034452 -0.014956  ...  0.030228 -0.029270   \n",
       "SIBSP-D  -0.116348 -0.060074 -0.026692  0.069438  ... -0.015947 -0.022565   \n",
       "\n",
       "                F2       F33       F38        F4        G6         T  \\\n",
       "Survived  0.034030  0.073942 -0.026409  0.060339  0.016261 -0.026409   \n",
       "Age      -0.071918 -0.004969  0.005179 -0.099512 -0.078415  0.037865   \n",
       "SibSp     0.007516 -0.027652 -0.015947  0.063530 -0.001474 -0.015947   \n",
       "Parch     0.068623 -0.027601 -0.015917  0.036368  0.072335 -0.015917   \n",
       "Fare     -0.007142 -0.024325 -0.016449  0.006600 -0.025061  0.002299   \n",
       "...            ...       ...       ...       ...       ...       ...   \n",
       "F4       -0.002763 -0.002763 -0.001593  1.000000 -0.003192 -0.001593   \n",
       "G6       -0.003912 -0.003912 -0.002256 -0.003192  1.000000 -0.002256   \n",
       "T        -0.001953 -0.001953 -0.001126 -0.001593 -0.002256  1.000000   \n",
       "AGE-D    -0.071918 -0.004969  0.005179 -0.099512 -0.078415  0.037865   \n",
       "SIBSP-D   0.007516 -0.027652 -0.015947  0.063530 -0.001474 -0.015947   \n",
       "\n",
       "             AGE-D   SIBSP-D  \n",
       "Survived -0.118041 -0.034040  \n",
       "Age       1.000000 -0.231668  \n",
       "SibSp    -0.231668  1.000000  \n",
       "Parch    -0.187346  0.414542  \n",
       "Fare      0.096705  0.160887  \n",
       "...            ...       ...  \n",
       "F4       -0.099512  0.063530  \n",
       "G6       -0.078415 -0.001474  \n",
       "T         0.037865 -0.015947  \n",
       "AGE-D     1.000000 -0.231668  \n",
       "SIBSP-D  -0.231668  1.000000  \n",
       "\n",
       "[163 rows x 163 columns]"
      ]
     },
     "execution_count": 204,
     "metadata": {},
     "output_type": "execute_result"
    }
   ],
   "source": [
    "td.corr()"
   ]
  },
  {
   "cell_type": "code",
   "execution_count": 208,
   "metadata": {},
   "outputs": [
    {
     "data": {
      "text/plain": [
       "<Axes: >"
      ]
     },
     "execution_count": 208,
     "metadata": {},
     "output_type": "execute_result"
    },
    {
     "data": {
      "image/png": "[encoded data removed]",
      "text/plain": [
       "<Figure size 640x480 with 2 Axes>"
      ]
     },
     "metadata": {},
     "output_type": "display_data"
    }
   ],
   "source": [
    "\n",
    "sb.heatmap(td.corr())"
   ]
  },
  {
   "cell_type": "code",
   "execution_count": 178,
   "metadata": {},
   "outputs": [
    {
     "data": {
      "text/html": [
       "<div>\n",
       "<style scoped>\n",
       "    .dataframe tbody tr th:only-of-type {\n",
       "        vertical-align: middle;\n",
       "    }\n",
       "\n",
       "    .dataframe tbody tr th {\n",
       "        vertical-align: top;\n",
       "    }\n",
       "\n",
       "    .dataframe thead th {\n",
       "        text-align: right;\n",
       "    }\n",
       "</style>\n",
       "<table border=\"1\" class=\"dataframe\">\n",
       "  <thead>\n",
       "    <tr style=\"text-align: right;\">\n",
       "      <th></th>\n",
       "      <th>Survived</th>\n",
       "      <th>Age</th>\n",
       "      <th>SibSp</th>\n",
       "      <th>Parch</th>\n",
       "      <th>Fare</th>\n",
       "      <th>female</th>\n",
       "      <th>male</th>\n",
       "      <th>C</th>\n",
       "      <th>Q</th>\n",
       "      <th>S</th>\n",
       "      <th>...</th>\n",
       "      <th>F G63</th>\n",
       "      <th>F G73</th>\n",
       "      <th>F2</th>\n",
       "      <th>F33</th>\n",
       "      <th>F38</th>\n",
       "      <th>F4</th>\n",
       "      <th>G6</th>\n",
       "      <th>T</th>\n",
       "      <th>AGE-D</th>\n",
       "      <th>SIBSP-D</th>\n",
       "    </tr>\n",
       "  </thead>\n",
       "  <tbody>\n",
       "    <tr>\n",
       "      <th>0</th>\n",
       "      <td>0</td>\n",
       "      <td>22.0</td>\n",
       "      <td>1</td>\n",
       "      <td>0</td>\n",
       "      <td>7.2500</td>\n",
       "      <td>False</td>\n",
       "      <td>True</td>\n",
       "      <td>False</td>\n",
       "      <td>False</td>\n",
       "      <td>True</td>\n",
       "      <td>...</td>\n",
       "      <td>False</td>\n",
       "      <td>False</td>\n",
       "      <td>False</td>\n",
       "      <td>False</td>\n",
       "      <td>False</td>\n",
       "      <td>False</td>\n",
       "      <td>False</td>\n",
       "      <td>False</td>\n",
       "      <td>22.0</td>\n",
       "      <td>1</td>\n",
       "    </tr>\n",
       "    <tr>\n",
       "      <th>1</th>\n",
       "      <td>1</td>\n",
       "      <td>38.0</td>\n",
       "      <td>1</td>\n",
       "      <td>0</td>\n",
       "      <td>71.2833</td>\n",
       "      <td>True</td>\n",
       "      <td>False</td>\n",
       "      <td>True</td>\n",
       "      <td>False</td>\n",
       "      <td>False</td>\n",
       "      <td>...</td>\n",
       "      <td>False</td>\n",
       "      <td>False</td>\n",
       "      <td>False</td>\n",
       "      <td>False</td>\n",
       "      <td>False</td>\n",
       "      <td>False</td>\n",
       "      <td>False</td>\n",
       "      <td>False</td>\n",
       "      <td>38.0</td>\n",
       "      <td>1</td>\n",
       "    </tr>\n",
       "    <tr>\n",
       "      <th>2</th>\n",
       "      <td>1</td>\n",
       "      <td>26.0</td>\n",
       "      <td>0</td>\n",
       "      <td>0</td>\n",
       "      <td>7.9250</td>\n",
       "      <td>True</td>\n",
       "      <td>False</td>\n",
       "      <td>False</td>\n",
       "      <td>False</td>\n",
       "      <td>True</td>\n",
       "      <td>...</td>\n",
       "      <td>False</td>\n",
       "      <td>False</td>\n",
       "      <td>False</td>\n",
       "      <td>False</td>\n",
       "      <td>False</td>\n",
       "      <td>False</td>\n",
       "      <td>False</td>\n",
       "      <td>False</td>\n",
       "      <td>26.0</td>\n",
       "      <td>0</td>\n",
       "    </tr>\n",
       "    <tr>\n",
       "      <th>3</th>\n",
       "      <td>1</td>\n",
       "      <td>35.0</td>\n",
       "      <td>1</td>\n",
       "      <td>0</td>\n",
       "      <td>53.1000</td>\n",
       "      <td>True</td>\n",
       "      <td>False</td>\n",
       "      <td>False</td>\n",
       "      <td>False</td>\n",
       "      <td>True</td>\n",
       "      <td>...</td>\n",
       "      <td>False</td>\n",
       "      <td>False</td>\n",
       "      <td>False</td>\n",
       "      <td>False</td>\n",
       "      <td>False</td>\n",
       "      <td>False</td>\n",
       "      <td>False</td>\n",
       "      <td>False</td>\n",
       "      <td>35.0</td>\n",
       "      <td>1</td>\n",
       "    </tr>\n",
       "    <tr>\n",
       "      <th>4</th>\n",
       "      <td>0</td>\n",
       "      <td>35.0</td>\n",
       "      <td>0</td>\n",
       "      <td>0</td>\n",
       "      <td>8.0500</td>\n",
       "      <td>False</td>\n",
       "      <td>True</td>\n",
       "      <td>False</td>\n",
       "      <td>False</td>\n",
       "      <td>True</td>\n",
       "      <td>...</td>\n",
       "      <td>False</td>\n",
       "      <td>False</td>\n",
       "      <td>False</td>\n",
       "      <td>False</td>\n",
       "      <td>False</td>\n",
       "      <td>False</td>\n",
       "      <td>False</td>\n",
       "      <td>False</td>\n",
       "      <td>35.0</td>\n",
       "      <td>0</td>\n",
       "    </tr>\n",
       "  </tbody>\n",
       "</table>\n",
       "<p>5 rows × 163 columns</p>\n",
       "</div>"
      ],
      "text/plain": [
       "   Survived   Age  SibSp  Parch     Fare  female   male      C      Q      S  \\\n",
       "0         0  22.0      1      0   7.2500   False   True  False  False   True   \n",
       "1         1  38.0      1      0  71.2833    True  False   True  False  False   \n",
       "2         1  26.0      0      0   7.9250    True  False  False  False   True   \n",
       "3         1  35.0      1      0  53.1000    True  False  False  False   True   \n",
       "4         0  35.0      0      0   8.0500   False   True  False  False   True   \n",
       "\n",
       "   ...  F G63  F G73     F2    F33    F38     F4     G6      T  AGE-D  SIBSP-D  \n",
       "0  ...  False  False  False  False  False  False  False  False   22.0        1  \n",
       "1  ...  False  False  False  False  False  False  False  False   38.0        1  \n",
       "2  ...  False  False  False  False  False  False  False  False   26.0        0  \n",
       "3  ...  False  False  False  False  False  False  False  False   35.0        1  \n",
       "4  ...  False  False  False  False  False  False  False  False   35.0        0  \n",
       "\n",
       "[5 rows x 163 columns]"
      ]
     },
     "execution_count": 178,
     "metadata": {},
     "output_type": "execute_result"
    }
   ],
   "source": [
    "td.head(5)"
   ]
  },
  {
   "cell_type": "code",
   "execution_count": 179,
   "metadata": {},
   "outputs": [],
   "source": [
    "X=td.drop([\"Survived\"],axis=1)"
   ]
  },
  {
   "cell_type": "code",
   "execution_count": 180,
   "metadata": {},
   "outputs": [
    {
     "name": "stdout",
     "output_type": "stream",
     "text": [
      "       Age  SibSp  Parch     Fare  female   male      C      Q      S  \\\n",
      "0    22.00      1      0   7.2500   False   True  False  False   True   \n",
      "1    38.00      1      0  71.2833    True  False   True  False  False   \n",
      "2    26.00      0      0   7.9250    True  False  False  False   True   \n",
      "3    35.00      1      0  53.1000    True  False  False  False   True   \n",
      "4    35.00      0      0   8.0500   False   True  False  False   True   \n",
      "..     ...    ...    ...      ...     ...    ...    ...    ...    ...   \n",
      "886  27.00      0      0  13.0000   False   True  False  False   True   \n",
      "887  19.00      0      0  30.0000    True  False  False  False   True   \n",
      "888  32.16      1      2  23.4500    True  False  False  False   True   \n",
      "889  26.00      0      0  30.0000   False   True   True  False  False   \n",
      "890  32.00      0      0   7.7500   False   True  False   True  False   \n",
      "\n",
      "     Pclass_1  ...  F G63  F G73     F2    F33    F38     F4     G6      T  \\\n",
      "0       False  ...  False  False  False  False  False  False  False  False   \n",
      "1        True  ...  False  False  False  False  False  False  False  False   \n",
      "2       False  ...  False  False  False  False  False  False  False  False   \n",
      "3        True  ...  False  False  False  False  False  False  False  False   \n",
      "4       False  ...  False  False  False  False  False  False  False  False   \n",
      "..        ...  ...    ...    ...    ...    ...    ...    ...    ...    ...   \n",
      "886     False  ...  False  False  False  False  False  False  False  False   \n",
      "887      True  ...  False  False  False  False  False  False  False  False   \n",
      "888     False  ...  False  False  False  False  False  False  False  False   \n",
      "889      True  ...  False  False  False  False  False  False  False  False   \n",
      "890     False  ...  False  False  False  False  False  False  False  False   \n",
      "\n",
      "     AGE-D  SIBSP-D  \n",
      "0    22.00        1  \n",
      "1    38.00        1  \n",
      "2    26.00        0  \n",
      "3    35.00        1  \n",
      "4    35.00        0  \n",
      "..     ...      ...  \n",
      "886  27.00        0  \n",
      "887  19.00        0  \n",
      "888  32.16        1  \n",
      "889  26.00        0  \n",
      "890  32.00        0  \n",
      "\n",
      "[889 rows x 162 columns]\n"
     ]
    }
   ],
   "source": [
    "print(X)"
   ]
  },
  {
   "cell_type": "code",
   "execution_count": 181,
   "metadata": {},
   "outputs": [
    {
     "name": "stdout",
     "output_type": "stream",
     "text": [
      "<class 'pandas.core.frame.DataFrame'>\n",
      "Index: 889 entries, 0 to 890\n",
      "Columns: 162 entries, Age to SIBSP-D\n",
      "dtypes: bool(156), float64(3), int64(3)\n",
      "memory usage: 184.1 KB\n"
     ]
    }
   ],
   "source": [
    "X.info()"
   ]
  },
  {
   "cell_type": "code",
   "execution_count": 182,
   "metadata": {},
   "outputs": [],
   "source": [
    "y=td[\"Survived\"]"
   ]
  },
  {
   "cell_type": "code",
   "execution_count": 183,
   "metadata": {},
   "outputs": [
    {
     "name": "stdout",
     "output_type": "stream",
     "text": [
      "0      0\n",
      "1      1\n",
      "2      1\n",
      "3      1\n",
      "4      0\n",
      "      ..\n",
      "886    0\n",
      "887    1\n",
      "888    0\n",
      "889    1\n",
      "890    0\n",
      "Name: Survived, Length: 889, dtype: int64\n"
     ]
    }
   ],
   "source": [
    "print(y)"
   ]
  },
  {
   "cell_type": "code",
   "execution_count": null,
   "metadata": {},
   "outputs": [],
   "source": []
  },
  {
   "cell_type": "code",
   "execution_count": 184,
   "metadata": {},
   "outputs": [],
   "source": [
    "from sklearn.model_selection import train_test_split"
   ]
  },
  {
   "cell_type": "code",
   "execution_count": 185,
   "metadata": {},
   "outputs": [],
   "source": [
    "X_train,X_test,y_train,y_test=train_test_split(X,y,test_size=0.2,random_state=1)"
   ]
  },
  {
   "cell_type": "code",
   "execution_count": 186,
   "metadata": {},
   "outputs": [
    {
     "name": "stdout",
     "output_type": "stream",
     "text": [
      "<class 'pandas.core.frame.DataFrame'>\n",
      "Index: 711 entries, 121 to 37\n",
      "Columns: 162 entries, Age to SIBSP-D\n",
      "dtypes: bool(156), float64(3), int64(3)\n",
      "memory usage: 147.2 KB\n"
     ]
    }
   ],
   "source": [
    "X_train.info()"
   ]
  },
  {
   "cell_type": "code",
   "execution_count": 187,
   "metadata": {},
   "outputs": [
    {
     "name": "stdout",
     "output_type": "stream",
     "text": [
      "<class 'pandas.core.series.Series'>\n",
      "Index: 711 entries, 121 to 37\n",
      "Series name: Survived\n",
      "Non-Null Count  Dtype\n",
      "--------------  -----\n",
      "711 non-null    int64\n",
      "dtypes: int64(1)\n",
      "memory usage: 11.1 KB\n"
     ]
    }
   ],
   "source": [
    "y_train.info()"
   ]
  },
  {
   "cell_type": "code",
   "execution_count": 188,
   "metadata": {},
   "outputs": [
    {
     "name": "stdout",
     "output_type": "stream",
     "text": [
      "<class 'pandas.core.series.Series'>\n",
      "Index: 178 entries, 387 to 234\n",
      "Series name: Survived\n",
      "Non-Null Count  Dtype\n",
      "--------------  -----\n",
      "178 non-null    int64\n",
      "dtypes: int64(1)\n",
      "memory usage: 2.8 KB\n"
     ]
    }
   ],
   "source": [
    "y_test.info()"
   ]
  },
  {
   "cell_type": "code",
   "execution_count": 189,
   "metadata": {},
   "outputs": [
    {
     "name": "stdout",
     "output_type": "stream",
     "text": [
      "<class 'pandas.core.frame.DataFrame'>\n",
      "Index: 178 entries, 387 to 234\n",
      "Columns: 162 entries, Age to SIBSP-D\n",
      "dtypes: bool(156), float64(3), int64(3)\n",
      "memory usage: 36.9 KB\n"
     ]
    }
   ],
   "source": [
    "X_test.info()"
   ]
  },
  {
   "cell_type": "code",
   "execution_count": 190,
   "metadata": {},
   "outputs": [],
   "source": [
    "from sklearn.linear_model import LogisticRegression"
   ]
  },
  {
   "cell_type": "code",
   "execution_count": 191,
   "metadata": {},
   "outputs": [],
   "source": [
    "lm=LogisticRegression(max_iter=10000)"
   ]
  },
  {
   "cell_type": "code",
   "execution_count": 192,
   "metadata": {
    "scrolled": true
   },
   "outputs": [
    {
     "name": "stdout",
     "output_type": "stream",
     "text": [
      "LogisticRegression(max_iter=10000)\n"
     ]
    }
   ],
   "source": [
    "print(lm.fit(X_train,y_train))"
   ]
  },
  {
   "cell_type": "code",
   "execution_count": 193,
   "metadata": {},
   "outputs": [],
   "source": [
    "Predictions=lm.predict(X_test)"
   ]
  },
  {
   "cell_type": "code",
   "execution_count": 194,
   "metadata": {},
   "outputs": [],
   "source": [
    "from sklearn.metrics import classification_report"
   ]
  },
  {
   "cell_type": "code",
   "execution_count": 195,
   "metadata": {},
   "outputs": [
    {
     "name": "stdout",
     "output_type": "stream",
     "text": [
      "              precision    recall  f1-score   support\n",
      "\n",
      "           0       0.97      0.99      0.98       105\n",
      "           1       0.99      0.96      0.97        73\n",
      "\n",
      "    accuracy                           0.98       178\n",
      "   macro avg       0.98      0.97      0.98       178\n",
      "weighted avg       0.98      0.98      0.98       178\n",
      "\n"
     ]
    }
   ],
   "source": [
    "print(classification_report(y_test,Predictions))"
   ]
  },
  {
   "cell_type": "code",
   "execution_count": 196,
   "metadata": {},
   "outputs": [],
   "source": [
    "from sklearn.metrics import confusion_matrix"
   ]
  },
  {
   "cell_type": "code",
   "execution_count": 197,
   "metadata": {},
   "outputs": [
    {
     "name": "stdout",
     "output_type": "stream",
     "text": [
      "[[104   1]\n",
      " [  3  70]]\n"
     ]
    }
   ],
   "source": [
    "print(confusion_matrix(y_test,Predictions))"
   ]
  },
  {
   "cell_type": "code",
   "execution_count": 198,
   "metadata": {},
   "outputs": [],
   "source": [
    "from sklearn.metrics import accuracy_score"
   ]
  },
  {
   "cell_type": "code",
   "execution_count": 199,
   "metadata": {},
   "outputs": [
    {
     "name": "stdout",
     "output_type": "stream",
     "text": [
      "0.9775280898876404\n"
     ]
    }
   ],
   "source": [
    "print(accuracy_score(y_test,Predictions))"
   ]
  },
  {
   "cell_type": "code",
   "execution_count": 200,
   "metadata": {},
   "outputs": [],
   "source": [
    "#import pickle"
   ]
  },
  {
   "cell_type": "code",
   "execution_count": 201,
   "metadata": {},
   "outputs": [],
   "source": [
    "# save the model to disk\n",
    "#with open('Titanic','wb') as f:\n",
    "#   pickle.dump(td,f)\n"
   ]
  },
  {
   "cell_type": "code",
   "execution_count": 202,
   "metadata": {},
   "outputs": [
    {
     "data": {
      "text/plain": [
       "array([1, 1, 0, 1, 0, 1, 1, 0, 0, 1, 0, 0, 1, 1, 0, 0, 0, 1, 1, 0, 1, 1,\n",
       "       0, 0, 0, 0, 1, 0, 0, 1, 0, 1, 1, 1, 0, 1, 0, 1, 0, 0, 1, 0, 1, 0,\n",
       "       0, 1, 1, 0, 1, 0, 0, 0, 0, 1, 0, 1, 0, 0, 0, 0, 0, 0, 0, 0, 0, 1,\n",
       "       0, 0, 0, 1, 0, 1, 1, 0, 1, 1, 1, 0, 1, 0, 0, 0, 1, 1, 1, 0, 1, 0,\n",
       "       0, 0, 0, 1, 0, 0, 1, 0, 1, 1, 1, 1, 0, 1, 0, 0, 0, 0, 1, 0, 0, 0,\n",
       "       0, 0, 0, 1, 1, 1, 0, 1, 1, 0, 0, 1, 0, 1, 1, 0, 0, 0, 0, 0, 1, 1,\n",
       "       0, 1, 1, 1, 0, 0, 0, 0, 0, 1, 0, 0, 0, 0, 1, 1, 1, 0, 0, 0, 1, 0,\n",
       "       1, 1, 0, 0, 0, 1, 1, 0, 0, 0, 0, 0, 1, 1, 0, 1, 0, 0, 0, 0, 0, 0,\n",
       "       0, 0])"
      ]
     },
     "execution_count": 202,
     "metadata": {},
     "output_type": "execute_result"
    }
   ],
   "source": [
    "Predictions"
   ]
  },
  {
   "cell_type": "code",
   "execution_count": 203,
   "metadata": {},
   "outputs": [
    {
     "data": {
      "text/plain": [
       "Survived\n",
       "0    549\n",
       "1    340\n",
       "Name: count, dtype: int64"
      ]
     },
     "execution_count": 203,
     "metadata": {},
     "output_type": "execute_result"
    }
   ],
   "source": [
    "td[\"Survived\"].value_counts()"
   ]
  },
  {
   "cell_type": "code",
   "execution_count": null,
   "metadata": {},
   "outputs": [],
   "source": []
  },
  {
   "cell_type": "code",
   "execution_count": null,
   "metadata": {},
   "outputs": [],
   "source": []
  }
 ],
 "metadata": {
  "kernelspec": {
   "display_name": "Python 3 (ipykernel)",
   "language": "python",
   "name": "python3"
  },
  "language_info": {
   "codemirror_mode": {
    "name": "ipython",
    "version": 3
   },
   "file_extension": ".py",
   "mimetype": "text/x-python",
   "name": "python",
   "nbconvert_exporter": "python",
   "pygments_lexer": "ipython3",
   "version": "3.13.1"
  }
 },
 "nbformat": 4,
 "nbformat_minor": 4
}
